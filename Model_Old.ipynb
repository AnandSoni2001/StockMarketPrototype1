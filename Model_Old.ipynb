{
 "cells": [
  {
   "cell_type": "code",
   "execution_count": 72,
   "id": "fc8ddaf6",
   "metadata": {},
   "outputs": [],
   "source": [
    "import math\n",
    "import numpy as np\n",
    "import pandas as pd\n",
    "from sklearn.preprocessing import MinMaxScaler \n",
    "import matplotlib.pyplot as plt\n",
    "import tensorflow as tf\n",
    "from tensorflow import keras\n",
    "from tensorflow.keras import layers\n",
    "from yahoo_fin import stock_info"
   ]
  },
  {
   "cell_type": "code",
   "execution_count": 116,
   "id": "1de26fd0",
   "metadata": {},
   "outputs": [
    {
     "data": {
      "text/html": [
       "<div>\n",
       "<style scoped>\n",
       "    .dataframe tbody tr th:only-of-type {\n",
       "        vertical-align: middle;\n",
       "    }\n",
       "\n",
       "    .dataframe tbody tr th {\n",
       "        vertical-align: top;\n",
       "    }\n",
       "\n",
       "    .dataframe thead th {\n",
       "        text-align: right;\n",
       "    }\n",
       "</style>\n",
       "<table border=\"1\" class=\"dataframe\">\n",
       "  <thead>\n",
       "    <tr style=\"text-align: right;\">\n",
       "      <th></th>\n",
       "      <th>open</th>\n",
       "      <th>high</th>\n",
       "      <th>low</th>\n",
       "      <th>close</th>\n",
       "      <th>adjclose</th>\n",
       "      <th>volume</th>\n",
       "    </tr>\n",
       "  </thead>\n",
       "  <tbody>\n",
       "    <tr>\n",
       "      <th>2002-08-11</th>\n",
       "      <td>38.724998</td>\n",
       "      <td>40.387501</td>\n",
       "      <td>35.724998</td>\n",
       "      <td>36.375000</td>\n",
       "      <td>26.099277</td>\n",
       "      <td>2001184.0</td>\n",
       "    </tr>\n",
       "    <tr>\n",
       "      <th>2002-08-18</th>\n",
       "      <td>36.674999</td>\n",
       "      <td>43.625000</td>\n",
       "      <td>35.137501</td>\n",
       "      <td>42.299999</td>\n",
       "      <td>30.350513</td>\n",
       "      <td>18564720.0</td>\n",
       "    </tr>\n",
       "    <tr>\n",
       "      <th>2002-08-25</th>\n",
       "      <td>42.974998</td>\n",
       "      <td>45.125000</td>\n",
       "      <td>40.287498</td>\n",
       "      <td>44.049999</td>\n",
       "      <td>31.606138</td>\n",
       "      <td>12945024.0</td>\n",
       "    </tr>\n",
       "    <tr>\n",
       "      <th>2002-09-01</th>\n",
       "      <td>44.750000</td>\n",
       "      <td>45.974998</td>\n",
       "      <td>41.012501</td>\n",
       "      <td>41.474998</td>\n",
       "      <td>29.758575</td>\n",
       "      <td>6795040.0</td>\n",
       "    </tr>\n",
       "    <tr>\n",
       "      <th>2002-09-08</th>\n",
       "      <td>39.500000</td>\n",
       "      <td>43.224998</td>\n",
       "      <td>39.500000</td>\n",
       "      <td>40.987499</td>\n",
       "      <td>29.408792</td>\n",
       "      <td>2637016.0</td>\n",
       "    </tr>\n",
       "    <tr>\n",
       "      <th>...</th>\n",
       "      <td>...</td>\n",
       "      <td>...</td>\n",
       "      <td>...</td>\n",
       "      <td>...</td>\n",
       "      <td>...</td>\n",
       "      <td>...</td>\n",
       "    </tr>\n",
       "    <tr>\n",
       "      <th>2023-02-19</th>\n",
       "      <td>3502.000000</td>\n",
       "      <td>3522.000000</td>\n",
       "      <td>3382.300049</td>\n",
       "      <td>3400.449951</td>\n",
       "      <td>3400.449951</td>\n",
       "      <td>6073215.0</td>\n",
       "    </tr>\n",
       "    <tr>\n",
       "      <th>2023-02-26</th>\n",
       "      <td>3390.000000</td>\n",
       "      <td>3392.000000</td>\n",
       "      <td>3299.899902</td>\n",
       "      <td>3342.149902</td>\n",
       "      <td>3342.149902</td>\n",
       "      <td>9513274.0</td>\n",
       "    </tr>\n",
       "    <tr>\n",
       "      <th>2023-03-05</th>\n",
       "      <td>3361.899902</td>\n",
       "      <td>3404.949951</td>\n",
       "      <td>3290.000000</td>\n",
       "      <td>3331.000000</td>\n",
       "      <td>3331.000000</td>\n",
       "      <td>5851626.0</td>\n",
       "    </tr>\n",
       "    <tr>\n",
       "      <th>2023-03-12</th>\n",
       "      <td>3333.000000</td>\n",
       "      <td>3369.800049</td>\n",
       "      <td>3144.000000</td>\n",
       "      <td>3179.300049</td>\n",
       "      <td>3179.300049</td>\n",
       "      <td>14993115.0</td>\n",
       "    </tr>\n",
       "    <tr>\n",
       "      <th>2023-03-19</th>\n",
       "      <td>3169.649902</td>\n",
       "      <td>3170.000000</td>\n",
       "      <td>3095.050049</td>\n",
       "      <td>3120.500000</td>\n",
       "      <td>3120.500000</td>\n",
       "      <td>7930499.0</td>\n",
       "    </tr>\n",
       "  </tbody>\n",
       "</table>\n",
       "<p>1076 rows × 6 columns</p>\n",
       "</div>"
      ],
      "text/plain": [
       "                   open         high          low        close     adjclose  \\\n",
       "2002-08-11    38.724998    40.387501    35.724998    36.375000    26.099277   \n",
       "2002-08-18    36.674999    43.625000    35.137501    42.299999    30.350513   \n",
       "2002-08-25    42.974998    45.125000    40.287498    44.049999    31.606138   \n",
       "2002-09-01    44.750000    45.974998    41.012501    41.474998    29.758575   \n",
       "2002-09-08    39.500000    43.224998    39.500000    40.987499    29.408792   \n",
       "...                 ...          ...          ...          ...          ...   \n",
       "2023-02-19  3502.000000  3522.000000  3382.300049  3400.449951  3400.449951   \n",
       "2023-02-26  3390.000000  3392.000000  3299.899902  3342.149902  3342.149902   \n",
       "2023-03-05  3361.899902  3404.949951  3290.000000  3331.000000  3331.000000   \n",
       "2023-03-12  3333.000000  3369.800049  3144.000000  3179.300049  3179.300049   \n",
       "2023-03-19  3169.649902  3170.000000  3095.050049  3120.500000  3120.500000   \n",
       "\n",
       "                volume  \n",
       "2002-08-11   2001184.0  \n",
       "2002-08-18  18564720.0  \n",
       "2002-08-25  12945024.0  \n",
       "2002-09-01   6795040.0  \n",
       "2002-09-08   2637016.0  \n",
       "...                ...  \n",
       "2023-02-19   6073215.0  \n",
       "2023-02-26   9513274.0  \n",
       "2023-03-05   5851626.0  \n",
       "2023-03-12  14993115.0  \n",
       "2023-03-19   7930499.0  \n",
       "\n",
       "[1076 rows x 6 columns]"
      ]
     },
     "execution_count": 116,
     "metadata": {},
     "output_type": "execute_result"
    }
   ],
   "source": [
    "tcsdaily = stock_info.get_data(\"TCS.NS\", interval=\"1wk\")\n",
    "tcsdaily = tcsdaily.drop(['ticker'], axis=1)\n",
    "tcsdaily=tcsdaily.dropna()\n",
    "tcsdaily"
   ]
  },
  {
   "cell_type": "code",
   "execution_count": 117,
   "id": "0b062384",
   "metadata": {},
   "outputs": [
    {
     "data": {
      "image/png": "[encoded data removed]",
      "text/plain": [
       "<Figure size 1152x576 with 1 Axes>"
      ]
     },
     "metadata": {
      "needs_background": "light"
     },
     "output_type": "display_data"
    }
   ],
   "source": [
    "plt.figure(figsize=(16,8))\n",
    "plt.plot(tcsdaily['close'])\n",
    "plt.title('TCS-Daily')\n",
    "plt.xlabel('Date')\n",
    "plt.ylabel('Prices (Rs.)')\n",
    "plt.show()"
   ]
  },
  {
   "cell_type": "code",
   "execution_count": 118,
   "id": "b6ca2305",
   "metadata": {},
   "outputs": [
    {
     "data": {
      "text/plain": [
       "2002-08-11      36.375000\n",
       "2002-08-18      42.299999\n",
       "2002-08-25      44.049999\n",
       "2002-09-01      41.474998\n",
       "2002-09-08      40.987499\n",
       "                 ...     \n",
       "2023-02-19    3400.449951\n",
       "2023-02-26    3342.149902\n",
       "2023-03-05    3331.000000\n",
       "2023-03-12    3179.300049\n",
       "2023-03-19    3120.500000\n",
       "Name: close, Length: 1076, dtype: float64"
      ]
     },
     "execution_count": 118,
     "metadata": {},
     "output_type": "execute_result"
    }
   ],
   "source": [
    "#Take close prices\n",
    "close_prices = tcsdaily['close'] \n",
    "close_prices"
   ]
  },
  {
   "cell_type": "code",
   "execution_count": 119,
   "id": "765b5afe",
   "metadata": {},
   "outputs": [
    {
     "name": "stdout",
     "output_type": "stream",
     "text": [
      "1076\n"
     ]
    },
    {
     "data": {
      "text/plain": [
       "array([36.375     , 42.29999924, 44.04999924, 41.47499847, 40.98749924,\n",
       "       39.09999847, 38.47499847, 37.51250076, 38.21250153, 38.8125    ])"
      ]
     },
     "execution_count": 119,
     "metadata": {},
     "output_type": "execute_result"
    }
   ],
   "source": [
    "#take only values of close prices\n",
    "values = close_prices.values \n",
    "print(len(values))\n",
    "values[0:10]"
   ]
  },
  {
   "cell_type": "code",
   "execution_count": 120,
   "id": "374bc199",
   "metadata": {},
   "outputs": [
    {
     "data": {
      "text/plain": [
       "861"
      ]
     },
     "execution_count": 120,
     "metadata": {},
     "output_type": "execute_result"
    }
   ],
   "source": [
    "#take 80% of the data for training\n",
    "training_data_len = math.ceil(len(values)* 0.8) \n",
    "training_data_len"
   ]
  },
  {
   "cell_type": "code",
   "execution_count": 121,
   "id": "30f89989",
   "metadata": {},
   "outputs": [
    {
     "name": "stdout",
     "output_type": "stream",
     "text": [
      "861\n",
      "[0.]\n",
      "[0.00150695]\n",
      "[0.]\n",
      "[0.54614646]\n"
     ]
    },
    {
     "data": {
      "text/plain": [
       "array([[0.        ],\n",
       "       [0.00150695],\n",
       "       [0.00195204],\n",
       "       [0.00129712],\n",
       "       [0.00117313],\n",
       "       [0.00069307],\n",
       "       [0.00053411],\n",
       "       [0.00028931],\n",
       "       [0.00046735],\n",
       "       [0.00061995]])"
      ]
     },
     "execution_count": 121,
     "metadata": {},
     "output_type": "execute_result"
    }
   ],
   "source": [
    "#Scale the data\n",
    "scaler = MinMaxScaler(feature_range=(0,1))\n",
    "scaled_data = scaler.fit_transform(values.reshape(-1,1))\n",
    "\n",
    "#Select training data from 0 to length\n",
    "train_data = scaled_data[0: training_data_len, :]\n",
    "\n",
    "#Print\n",
    "print(len(train_data))\n",
    "print(train_data[0])\n",
    "print(train_data[1])\n",
    "print(min(train_data))\n",
    "print(max(train_data))\n",
    "scaled_data[0:10]"
   ]
  },
  {
   "cell_type": "code",
   "execution_count": 122,
   "id": "ef0c9ad3",
   "metadata": {},
   "outputs": [
    {
     "name": "stdout",
     "output_type": "stream",
     "text": [
      "801\n",
      "801\n",
      "60\n",
      "60\n",
      "0.0005118555392730623\n",
      "[0.         0.00150695 0.00195204 0.00129712 0.00117313 0.00069307\n",
      " 0.00053411 0.00028931 0.00046735 0.00061995]\n"
     ]
    }
   ],
   "source": [
    "x_train = []\n",
    "y_train = []\n",
    "\n",
    "#Create a list of 60 values in a single input in x_train and then the take the 61st value in y such as to \n",
    "#predict it\n",
    "for i in range(60, len(train_data)):\n",
    "    x_train.append(train_data[i-60:i, 0]) #Take 60 values and put in 1st\n",
    "    y_train.append(train_data[i, 0]) #Take 61st value and put in it's \n",
    "    \n",
    "\n",
    "x_train, y_train = np.array(x_train), np.array(y_train)\n",
    "\n",
    "#Print check some stuff\n",
    "print(len(x_train))\n",
    "print(len(y_train))\n",
    "print(len(x_train[0]))\n",
    "print(len(x_train[1]))\n",
    "print(y_train[0])\n",
    "print(x_train[0][0:10])"
   ]
  },
  {
   "cell_type": "code",
   "execution_count": 123,
   "id": "66ef24c3",
   "metadata": {},
   "outputs": [
    {
     "name": "stdout",
     "output_type": "stream",
     "text": [
      "801\n"
     ]
    },
    {
     "data": {
      "text/plain": [
       "array([[0.        ],\n",
       "       [0.00150695],\n",
       "       [0.00195204],\n",
       "       [0.00129712],\n",
       "       [0.00117313],\n",
       "       [0.00069307],\n",
       "       [0.00053411],\n",
       "       [0.00028931],\n",
       "       [0.00046735],\n",
       "       [0.00061995]])"
      ]
     },
     "execution_count": 123,
     "metadata": {},
     "output_type": "execute_result"
    }
   ],
   "source": [
    "#Reshape the values\n",
    "x_train = np.reshape(x_train, (x_train.shape[0], x_train.shape[1], 1))\n",
    "\n",
    "#Print\n",
    "print(len(x_train))\n",
    "x_train[0][0:10]"
   ]
  },
  {
   "cell_type": "code",
   "execution_count": 124,
   "id": "9ae7965b",
   "metadata": {},
   "outputs": [
    {
     "name": "stdout",
     "output_type": "stream",
     "text": [
      "Model: \"sequential_7\"\n",
      "_________________________________________________________________\n",
      " Layer (type)                Output Shape              Param #   \n",
      "=================================================================\n",
      " lstm_14 (LSTM)              (None, 60, 100)           40800     \n",
      "                                                                 \n",
      " lstm_15 (LSTM)              (None, 100)               80400     \n",
      "                                                                 \n",
      " dense_16 (Dense)            (None, 25)                2525      \n",
      "                                                                 \n",
      " dense_17 (Dense)            (None, 1)                 26        \n",
      "                                                                 \n",
      "=================================================================\n",
      "Total params: 123,751\n",
      "Trainable params: 123,751\n",
      "Non-trainable params: 0\n",
      "_________________________________________________________________\n"
     ]
    }
   ],
   "source": [
    "model = keras.Sequential()\n",
    "model.add(layers.LSTM(100, return_sequences=True, input_shape=(x_train.shape[1], 1)))\n",
    "model.add(layers.LSTM(100, return_sequences=False))\n",
    "model.add(layers.Dense(25))\n",
    "model.add(layers.Dense(1))\n",
    "model.summary()"
   ]
  },
  {
   "cell_type": "code",
   "execution_count": 125,
   "id": "810a99cf",
   "metadata": {},
   "outputs": [
    {
     "name": "stdout",
     "output_type": "stream",
     "text": [
      "Epoch 1/10\n",
      "17/17 [==============================] - 7s 129ms/step - loss: 0.0066\n",
      "Epoch 2/10\n",
      "17/17 [==============================] - 3s 166ms/step - loss: 4.2756e-04\n",
      "Epoch 3/10\n",
      "17/17 [==============================] - 3s 156ms/step - loss: 2.5148e-04\n",
      "Epoch 4/10\n",
      "17/17 [==============================] - 2s 130ms/step - loss: 2.5212e-04\n",
      "Epoch 5/10\n",
      "17/17 [==============================] - 2s 129ms/step - loss: 1.9057e-04\n",
      "Epoch 6/10\n",
      "17/17 [==============================] - 2s 132ms/step - loss: 1.9305e-04\n",
      "Epoch 7/10\n",
      "17/17 [==============================] - 2s 133ms/step - loss: 1.8144e-04\n",
      "Epoch 8/10\n",
      "17/17 [==============================] - 3s 148ms/step - loss: 1.9155e-04\n",
      "Epoch 9/10\n",
      "17/17 [==============================] - 2s 141ms/step - loss: 1.8338e-04\n",
      "Epoch 10/10\n",
      "17/17 [==============================] - 3s 164ms/step - loss: 2.5086e-04\n"
     ]
    },
    {
     "data": {
      "text/plain": [
       "<keras.callbacks.History at 0x160f89a50>"
      ]
     },
     "execution_count": 125,
     "metadata": {},
     "output_type": "execute_result"
    }
   ],
   "source": [
    "model.compile(optimizer='adam', loss='mean_squared_error')\n",
    "model.fit(x_train, y_train, batch_size= 50, epochs=10)"
   ]
  },
  {
   "cell_type": "code",
   "execution_count": 133,
   "id": "6e231dc5",
   "metadata": {},
   "outputs": [
    {
     "name": "stdout",
     "output_type": "stream",
     "text": [
      "215\n",
      "215\n"
     ]
    }
   ],
   "source": [
    "test_data = scaled_data[training_data_len-60: , : ]\n",
    "\n",
    "x_test = []\n",
    "y_test = values[training_data_len:]\n",
    "\n",
    "for i in range(60, len(test_data)):\n",
    "    x_test.append(test_data[i-60:i, 0])\n",
    "\n",
    "x_test = np.array(x_test)\n",
    "x_test = np.reshape(x_test, (x_test.shape[0], x_test.shape[1], 1))\n",
    "\n",
    "print(len(x_test))\n",
    "print(len(y_test))"
   ]
  },
  {
   "cell_type": "code",
   "execution_count": 130,
   "id": "790e3643",
   "metadata": {},
   "outputs": [
    {
     "name": "stdout",
     "output_type": "stream",
     "text": [
      "7/7 [==============================] - 0s 43ms/step\n",
      "215\n"
     ]
    },
    {
     "data": {
      "text/plain": [
       "37.04931867732558"
      ]
     },
     "execution_count": 130,
     "metadata": {},
     "output_type": "execute_result"
    }
   ],
   "source": [
    "predictions = model.predict(x_test)\n",
    "predictions = scaler.inverse_transform(predictions)\n",
    "\n",
    "print(len(predictions))\n",
    "rmse = np.sqrt(np.mean(predictions - y_test)**2)\n",
    "rmse"
   ]
  },
  {
   "cell_type": "code",
   "execution_count": 131,
   "id": "ef3d5d37",
   "metadata": {},
   "outputs": [
    {
     "name": "stderr",
     "output_type": "stream",
     "text": [
      "/var/folders/_m/7wdfvnkn1871d5q_fgf9lqj00000gn/T/ipykernel_10857/2595987141.py:4: SettingWithCopyWarning: \n",
      "A value is trying to be set on a copy of a slice from a DataFrame.\n",
      "Try using .loc[row_indexer,col_indexer] = value instead\n",
      "\n",
      "See the caveats in the documentation: https://pandas.pydata.org/pandas-docs/stable/user_guide/indexing.html#returning-a-view-versus-a-copy\n",
      "  validation['Predictions'] = predictions\n"
     ]
    },
    {
     "data": {
      "image/png": "[encoded data removed]",
      "text/plain": [
       "<Figure size 1152x576 with 1 Axes>"
      ]
     },
     "metadata": {
      "needs_background": "light"
     },
     "output_type": "display_data"
    }
   ],
   "source": [
    "data1 = tcsdaily.filter(['close'])\n",
    "train = data1[:training_data_len]\n",
    "validation = data1[training_data_len:]\n",
    "validation['Predictions'] = predictions\n",
    "\n",
    "plt.figure(figsize=(16,8))\n",
    "plt.title('Model')\n",
    "plt.xlabel('Date')\n",
    "plt.ylabel('Close Price')\n",
    "plt.plot(train)\n",
    "plt.plot(validation[['close', 'Predictions']])\n",
    "plt.legend(['Train', 'Val', 'Predictions'], loc='lower right')\n",
    "plt.show()"
   ]
  },
  {
   "cell_type": "code",
   "execution_count": null,
   "id": "cb7c6612",
   "metadata": {},
   "outputs": [],
   "source": []
  }
 ],
 "metadata": {
  "kernelspec": {
   "display_name": "Python 3 (ipykernel)",
   "language": "python",
   "name": "python3"
  },
  "language_info": {
   "codemirror_mode": {
    "name": "ipython",
    "version": 3
   },
   "file_extension": ".py",
   "mimetype": "text/x-python",
   "name": "python",
   "nbconvert_exporter": "python",
   "pygments_lexer": "ipython3",
   "version": "3.10.5"
  }
 },
 "nbformat": 4,
 "nbformat_minor": 5
}
